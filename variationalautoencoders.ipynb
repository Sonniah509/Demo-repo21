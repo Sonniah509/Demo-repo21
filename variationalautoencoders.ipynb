{
  "nbformat": 4,
  "nbformat_minor": 0,
  "metadata": {
    "colab": {
      "provenance": [],
      "include_colab_link": true
    },
    "kernelspec": {
      "name": "python3",
      "display_name": "Python 3"
    },
    "language_info": {
      "name": "python"
    }
  },
  "cells": [
    {
      "cell_type": "markdown",
      "metadata": {
        "id": "view-in-github",
        "colab_type": "text"
      },
      "source": [
        "<a href=\"https://colab.research.google.com/github/Sonniah509/Demo-repo21/blob/master/variationalautoencoders.ipynb\" target=\"_parent\"><img src=\"https://colab.research.google.com/assets/colab-badge.svg\" alt=\"Open In Colab\"/></a>"
      ]
    },
    {
      "cell_type": "code",
      "execution_count": null,
      "metadata": {
        "colab": {
          "base_uri": "https://localhost:8080/"
        },
        "id": "r0sy7pjidH3i",
        "outputId": "573d7d75-4b92-41b8-9bf9-3f1b6b6d1b48"
      },
      "outputs": [
        {
          "output_type": "stream",
          "name": "stdout",
          "text": [
            "Downloading data from https://storage.googleapis.com/tensorflow/tf-keras-datasets/mnist.npz\n",
            "11490434/11490434 [==============================] - 0s 0us/step\n",
            "Epoch 1/10\n"
          ]
        }
      ],
      "source": [
        "import numpy as np\n",
        "import tensorflow as tf\n",
        "from tensorflow import keras\n",
        "from tensorflow.keras import layers\n",
        "import torch\n",
        "from torch import nn\n",
        "from tensorflow.keras.layers import Conv2D, MaxPooling2D, Flatten, Dense, Lambda\n",
        "import keras.backend as K\n",
        "(x_train, _), (x_test, _) = tf.keras.datasets.mnist.load_data()\n",
        "def preprocess_images(images):\n",
        "  images = images.reshape((images.shape[0], 28, 28, 1)) / 255.\n",
        "  return np.where(images > .5, 1.0, 0.0).astype('float32')\n",
        "\n",
        "x_train = preprocess_images(x_train)\n",
        "x_test = preprocess_images(x_test)\n",
        "train_size = 6000\n",
        "batch_size = 32\n",
        "test_size = 1000\n",
        "x_train = (tf.data.Dataset.from_tensor_slices(x_train).shuffle(train_size).batch(batch_size))\n",
        "x_test = (tf.data.Dataset.from_tensor_slices(x_test).shuffle(test_size).batch(batch_size))\n",
        "latent_dim = 2\n",
        "#encoder\n",
        "inputs = keras.Input(shape=(28, 28, 1))\n",
        "x = Conv2D(32, 3, padding='same', activation='relu')(inputs)\n",
        "x = Conv2D(64, 3, padding='same', activation='relu')(x)\n",
        "x = Flatten()(x)\n",
        "mu = Dense(latent_dim, activation=\"relu\")(x)\n",
        "log_var = Dense(latent_dim, activation = \"relu\")(x)\n",
        "# Reparameterization trick\n",
        "epsilon = K.random_normal(shape=(latent_dim,))\n",
        "z = mu + tf.exp(0.5 * log_var) * epsilon\n",
        "\n",
        "decoder_input = keras.Input(shape=(latent_dim,))\n",
        "x = layers.Dense(7 * 7 * 64, activation=\"relu\")(decoder_input)\n",
        "x = layers.Reshape((7, 7, 64))(x)\n",
        "x = layers.Conv2DTranspose(64, 3, activation=\"relu\", strides=2, padding=\"same\")(x)\n",
        "x = layers.Conv2DTranspose(32, 3, activation=\"relu\", strides=2, padding=\"same\")(x)\n",
        "decoder_output = layers.Conv2DTranspose(1, 3, activation='sigmoid', padding='same')(x)\n",
        "\n",
        "encoder = keras.Model(inputs, z)\n",
        "decoder = keras.Model(decoder_input, decoder_output)\n",
        "\n",
        "# VAE model\n",
        "vae_output = decoder(z)\n",
        "vae = keras.Model(inputs, vae_output)\n",
        "# Define the VAE loss function\n",
        "kl_loss = -0.5 * tf.reduce_sum(1 + log_var - tf.square(mu) - tf.exp(log_var), axis=-1)\n",
        "reconstruction_loss = tf.reduce_mean(tf.keras.losses.binary_crossentropy(tf.keras.backend.flatten(inputs), tf.keras.backend.flatten(vae_output)) * 28 * 28)\n",
        "vae_loss = reconstruction_loss + 0.1 * kl_loss\n",
        "# Compile the VAE model\n",
        "vae.add_loss(vae_loss)\n",
        "vae.compile(optimizer='adam')\n",
        "vae.fit(x_train, epochs=10, batch_size=128)\n",
        "gen_im = vae.predict(x_test)\n",
        "import matplotlib.pyplot as plt\n",
        "n = 10\n",
        "plt.figure(figsize=(10, 1))\n",
        "for i in range(n):\n",
        "    ax = plt.subplot(1, n, i + 1)\n",
        "    plt.imshow(gen_im[i].reshape(28, 28))\n",
        "    plt.gray()\n",
        "    ax.get_xaxis().set_visible(False)\n",
        "    ax.get_yaxis().set_visible(False)\n",
        "plt.show()"
      ]
    }
  ]
}